{
 "cells": [
  {
   "cell_type": "code",
   "execution_count": 1,
   "metadata": {},
   "outputs": [
    {
     "name": "stderr",
     "output_type": "stream",
     "text": [
      "C:\\Users\\Kalairani VIGNESH\\anaconda3\\lib\\site-packages\\IPython\\core\\interactiveshell.py:3146: DtypeWarning: Columns (5,30) have mixed types.Specify dtype option on import or set low_memory=False.\n",
      "  has_raised = await self.run_ast_nodes(code_ast.body, cell_name,\n"
     ]
    }
   ],
   "source": [
    "### Analyze the amount\n",
    "import pandas as pd\n",
    "Clean_SIREN_MCC_APPLICATION=pd.read_csv(\"Clean_SIREN_MCC_APPLICATION_Dropped.csv\")\n"
   ]
  },
  {
   "cell_type": "code",
   "execution_count": 3,
   "metadata": {},
   "outputs": [],
   "source": [
    "def convert_to_EUR(args):  # placeholder for your fancy conversion function\n",
    "    amount = float(args[0])\n",
    "    currency = str(int(args[1]))\n",
    "    rates = {'36': 0.65, '124': 0.67, '356': 0.012, '392': 0.0077, '414': 2.77, '484': 0.04, '702': 0.62, '756': 0.9, \n",
    "             '784': 0.23, '826': 1.16, '840': 0.84, '978': 1}\n",
    "    return rates[currency] * amount\n"
   ]
  },
  {
   "cell_type": "code",
   "execution_count": 4,
   "metadata": {},
   "outputs": [
    {
     "data": {
      "text/plain": [
       "978    6852547\n",
       "756        651\n",
       "840        176\n",
       "826         21\n",
       "784         15\n",
       "392          4\n",
       "484          3\n",
       "36           3\n",
       "124          2\n",
       "702          1\n",
       "414          1\n",
       "356          1\n",
       "Name: currency_code, dtype: int64"
      ]
     },
     "execution_count": 4,
     "metadata": {},
     "output_type": "execute_result"
    }
   ],
   "source": [
    "Clean_SIREN_MCC_APPLICATION[\"currency_code\"].value_counts()"
   ]
  },
  {
   "cell_type": "code",
   "execution_count": 5,
   "metadata": {},
   "outputs": [
    {
     "data": {
      "text/plain": [
       "0.65"
      ]
     },
     "execution_count": 5,
     "metadata": {},
     "output_type": "execute_result"
    }
   ],
   "source": [
    " rates = {'36': 0.65, '124': 0.67, '356': 0.012, '392': 0.0077, '414': 2.77, '484': 0.04, '702': 0.62, '756': 0.9, \n",
    "             '784': 0.23, '826': 1.16, '840': 0.84, '978': 1}\n",
    "rates[\"36\"]"
   ]
  },
  {
   "cell_type": "code",
   "execution_count": 6,
   "metadata": {},
   "outputs": [],
   "source": [
    "Clean_SIREN_MCC_APPLICATION[\"AmountInEUR\"] = Clean_SIREN_MCC_APPLICATION[[\"amount\",\"currency_code\"]].apply(convert_to_EUR,axis=1)"
   ]
  },
  {
   "cell_type": "code",
   "execution_count": 7,
   "metadata": {},
   "outputs": [
    {
     "data": {
      "text/html": [
       "<div>\n",
       "<style scoped>\n",
       "    .dataframe tbody tr th:only-of-type {\n",
       "        vertical-align: middle;\n",
       "    }\n",
       "\n",
       "    .dataframe tbody tr th {\n",
       "        vertical-align: top;\n",
       "    }\n",
       "\n",
       "    .dataframe thead th {\n",
       "        text-align: right;\n",
       "    }\n",
       "</style>\n",
       "<table border=\"1\" class=\"dataframe\">\n",
       "  <thead>\n",
       "    <tr style=\"text-align: right;\">\n",
       "      <th></th>\n",
       "      <th>amount</th>\n",
       "      <th>AmountInEUR</th>\n",
       "    </tr>\n",
       "  </thead>\n",
       "  <tbody>\n",
       "    <tr>\n",
       "      <th>0</th>\n",
       "      <td>7.5</td>\n",
       "      <td>7.5</td>\n",
       "    </tr>\n",
       "    <tr>\n",
       "      <th>1</th>\n",
       "      <td>25.4</td>\n",
       "      <td>25.4</td>\n",
       "    </tr>\n",
       "    <tr>\n",
       "      <th>2</th>\n",
       "      <td>44.8</td>\n",
       "      <td>44.8</td>\n",
       "    </tr>\n",
       "    <tr>\n",
       "      <th>3</th>\n",
       "      <td>46.4</td>\n",
       "      <td>46.4</td>\n",
       "    </tr>\n",
       "    <tr>\n",
       "      <th>4</th>\n",
       "      <td>35.4</td>\n",
       "      <td>35.4</td>\n",
       "    </tr>\n",
       "    <tr>\n",
       "      <th>...</th>\n",
       "      <td>...</td>\n",
       "      <td>...</td>\n",
       "    </tr>\n",
       "    <tr>\n",
       "      <th>6853420</th>\n",
       "      <td>224.0</td>\n",
       "      <td>224.0</td>\n",
       "    </tr>\n",
       "    <tr>\n",
       "      <th>6853421</th>\n",
       "      <td>100.0</td>\n",
       "      <td>100.0</td>\n",
       "    </tr>\n",
       "    <tr>\n",
       "      <th>6853422</th>\n",
       "      <td>598.0</td>\n",
       "      <td>598.0</td>\n",
       "    </tr>\n",
       "    <tr>\n",
       "      <th>6853423</th>\n",
       "      <td>1.0</td>\n",
       "      <td>1.0</td>\n",
       "    </tr>\n",
       "    <tr>\n",
       "      <th>6853424</th>\n",
       "      <td>1.0</td>\n",
       "      <td>1.0</td>\n",
       "    </tr>\n",
       "  </tbody>\n",
       "</table>\n",
       "<p>6853425 rows × 2 columns</p>\n",
       "</div>"
      ],
      "text/plain": [
       "         amount  AmountInEUR\n",
       "0           7.5          7.5\n",
       "1          25.4         25.4\n",
       "2          44.8         44.8\n",
       "3          46.4         46.4\n",
       "4          35.4         35.4\n",
       "...         ...          ...\n",
       "6853420   224.0        224.0\n",
       "6853421   100.0        100.0\n",
       "6853422   598.0        598.0\n",
       "6853423     1.0          1.0\n",
       "6853424     1.0          1.0\n",
       "\n",
       "[6853425 rows x 2 columns]"
      ]
     },
     "execution_count": 7,
     "metadata": {},
     "output_type": "execute_result"
    }
   ],
   "source": [
    " Clean_SIREN_MCC_APPLICATION[[\"amount\",\"AmountInEUR\"]]"
   ]
  },
  {
   "cell_type": "code",
   "execution_count": 8,
   "metadata": {},
   "outputs": [
    {
     "data": {
      "text/plain": [
       "'978'"
      ]
     },
     "execution_count": 8,
     "metadata": {},
     "output_type": "execute_result"
    }
   ],
   "source": [
    "str(int(978.0))"
   ]
  },
  {
   "cell_type": "code",
   "execution_count": 9,
   "metadata": {},
   "outputs": [
    {
     "data": {
      "text/plain": [
       "DEBIT             6572032\n",
       "TNA                279023\n",
       "CREDIT               1925\n",
       "DEBIT_REVERSAL        445\n",
       "Name: type, dtype: int64"
      ]
     },
     "execution_count": 9,
     "metadata": {},
     "output_type": "execute_result"
    }
   ],
   "source": [
    "Clean_SIREN_MCC_APPLICATION['type'].value_counts()"
   ]
  },
  {
   "cell_type": "code",
   "execution_count": 3,
   "metadata": {},
   "outputs": [],
   "source": [
    "Clean_SIREN_MCC_APPLICATION=Clean_SIREN_MCC_APPLICATION.loc[Clean_SIREN_MCC_APPLICATION.type== 'DEBIT',:]"
   ]
  },
  {
   "cell_type": "code",
   "execution_count": 11,
   "metadata": {},
   "outputs": [],
   "source": [
    "Kmeans_EUR_Amount = Clean_SIREN_MCC_APPLICATION[[\"AmountInEUR\"]]"
   ]
  },
  {
   "cell_type": "code",
   "execution_count": 12,
   "metadata": {},
   "outputs": [
    {
     "data": {
      "text/html": [
       "<div>\n",
       "<style scoped>\n",
       "    .dataframe tbody tr th:only-of-type {\n",
       "        vertical-align: middle;\n",
       "    }\n",
       "\n",
       "    .dataframe tbody tr th {\n",
       "        vertical-align: top;\n",
       "    }\n",
       "\n",
       "    .dataframe thead th {\n",
       "        text-align: right;\n",
       "    }\n",
       "</style>\n",
       "<table border=\"1\" class=\"dataframe\">\n",
       "  <thead>\n",
       "    <tr style=\"text-align: right;\">\n",
       "      <th></th>\n",
       "      <th>AmountInEUR</th>\n",
       "    </tr>\n",
       "  </thead>\n",
       "  <tbody>\n",
       "    <tr>\n",
       "      <th>0</th>\n",
       "      <td>7.5</td>\n",
       "    </tr>\n",
       "    <tr>\n",
       "      <th>1</th>\n",
       "      <td>25.4</td>\n",
       "    </tr>\n",
       "    <tr>\n",
       "      <th>2</th>\n",
       "      <td>44.8</td>\n",
       "    </tr>\n",
       "    <tr>\n",
       "      <th>3</th>\n",
       "      <td>46.4</td>\n",
       "    </tr>\n",
       "    <tr>\n",
       "      <th>4</th>\n",
       "      <td>35.4</td>\n",
       "    </tr>\n",
       "    <tr>\n",
       "      <th>...</th>\n",
       "      <td>...</td>\n",
       "    </tr>\n",
       "    <tr>\n",
       "      <th>6853418</th>\n",
       "      <td>523.0</td>\n",
       "    </tr>\n",
       "    <tr>\n",
       "      <th>6853419</th>\n",
       "      <td>41.0</td>\n",
       "    </tr>\n",
       "    <tr>\n",
       "      <th>6853420</th>\n",
       "      <td>224.0</td>\n",
       "    </tr>\n",
       "    <tr>\n",
       "      <th>6853421</th>\n",
       "      <td>100.0</td>\n",
       "    </tr>\n",
       "    <tr>\n",
       "      <th>6853422</th>\n",
       "      <td>598.0</td>\n",
       "    </tr>\n",
       "  </tbody>\n",
       "</table>\n",
       "<p>6572032 rows × 1 columns</p>\n",
       "</div>"
      ],
      "text/plain": [
       "         AmountInEUR\n",
       "0                7.5\n",
       "1               25.4\n",
       "2               44.8\n",
       "3               46.4\n",
       "4               35.4\n",
       "...              ...\n",
       "6853418        523.0\n",
       "6853419         41.0\n",
       "6853420        224.0\n",
       "6853421        100.0\n",
       "6853422        598.0\n",
       "\n",
       "[6572032 rows x 1 columns]"
      ]
     },
     "execution_count": 12,
     "metadata": {},
     "output_type": "execute_result"
    }
   ],
   "source": [
    "Kmeans_EUR_Amount"
   ]
  },
  {
   "cell_type": "code",
   "execution_count": 15,
   "metadata": {},
   "outputs": [
    {
     "name": "stdout",
     "output_type": "stream",
     "text": [
      "kmeans_kwargs:: {'init': 'random', 'n_init': 10, 'max_iter': 300, 'random_state': 42}\n"
     ]
    }
   ],
   "source": [
    "sse = []\n",
    "silhouette_coefficients = []\n",
    "kmeans_kwargs = {\n",
    "\"init\": \"random\",\n",
    "\"n_init\": 10,\n",
    "\"max_iter\": 300,\n",
    "\"random_state\": 42,\n",
    "} \n",
    "\n",
    "print(\"kmeans_kwargs::\",kmeans_kwargs)"
   ]
  },
  {
   "cell_type": "code",
   "execution_count": 14,
   "metadata": {},
   "outputs": [],
   "source": [
    "from sklearn.cluster import KMeans\n",
    "import numpy as np"
   ]
  },
  {
   "cell_type": "code",
   "execution_count": 17,
   "metadata": {},
   "outputs": [
    {
     "name": "stdout",
     "output_type": "stream",
     "text": [
      "k: 2\n",
      "kmeans_preludd: KMeans(init='random', n_clusters=2, random_state=42)\n",
      "After Fit:: KMeans(init='random', n_clusters=2, random_state=42)\n",
      "sse:: [151757731397.33438]\n",
      "silhouette_coefficients []\n",
      "k: 3\n",
      "kmeans_preludd: KMeans(init='random', n_clusters=3, random_state=42)\n",
      "After Fit:: KMeans(init='random', n_clusters=3, random_state=42)\n",
      "sse:: [151757731397.33438, 109145074383.24841]\n",
      "silhouette_coefficients []\n",
      "k: 4\n",
      "kmeans_preludd: KMeans(init='random', n_clusters=4, random_state=42)\n",
      "After Fit:: KMeans(init='random', n_clusters=4, random_state=42)\n",
      "sse:: [151757731397.33438, 109145074383.24841, 63946555438.739784]\n",
      "silhouette_coefficients []\n",
      "k: 5\n",
      "kmeans_preludd: KMeans(init='random', n_clusters=5, random_state=42)\n",
      "After Fit:: KMeans(init='random', n_clusters=5, random_state=42)\n",
      "sse:: [151757731397.33438, 109145074383.24841, 63946555438.739784, 47303776742.9097]\n",
      "silhouette_coefficients []\n",
      "k: 6\n",
      "kmeans_preludd: KMeans(init='random', n_clusters=6, random_state=42)\n",
      "After Fit:: KMeans(init='random', n_clusters=6, random_state=42)\n",
      "sse:: [151757731397.33438, 109145074383.24841, 63946555438.739784, 47303776742.9097, 37119532394.17689]\n",
      "silhouette_coefficients []\n",
      "k: 7\n",
      "kmeans_preludd: KMeans(init='random', n_clusters=7, random_state=42)\n",
      "After Fit:: KMeans(init='random', n_clusters=7, random_state=42)\n",
      "sse:: [151757731397.33438, 109145074383.24841, 63946555438.739784, 47303776742.9097, 37119532394.17689, 29186156033.468998]\n",
      "silhouette_coefficients []\n",
      "k: 8\n",
      "kmeans_preludd: KMeans(init='random', random_state=42)\n",
      "After Fit:: KMeans(init='random', random_state=42)\n",
      "sse:: [151757731397.33438, 109145074383.24841, 63946555438.739784, 47303776742.9097, 37119532394.17689, 29186156033.468998, 25033905110.132065]\n",
      "silhouette_coefficients []\n",
      "k: 9\n",
      "kmeans_preludd: KMeans(init='random', n_clusters=9, random_state=42)\n",
      "After Fit:: KMeans(init='random', n_clusters=9, random_state=42)\n",
      "sse:: [151757731397.33438, 109145074383.24841, 63946555438.739784, 47303776742.9097, 37119532394.17689, 29186156033.468998, 25033905110.132065, 17167845846.060541]\n",
      "silhouette_coefficients []\n",
      "k: 10\n",
      "kmeans_preludd: KMeans(init='random', n_clusters=10, random_state=42)\n",
      "After Fit:: KMeans(init='random', n_clusters=10, random_state=42)\n",
      "sse:: [151757731397.33438, 109145074383.24841, 63946555438.739784, 47303776742.9097, 37119532394.17689, 29186156033.468998, 25033905110.132065, 17167845846.060541, 15371267856.95672]\n",
      "silhouette_coefficients []\n"
     ]
    }
   ],
   "source": [
    "sse=[]\n",
    "#silhouette_coefficients = []\n",
    "from sklearn.metrics import silhouette_score\n",
    "for k in range(2, 11):\n",
    "    print(\"k:\",k)\n",
    "    kmeans_preludd = KMeans(n_clusters=k, **kmeans_kwargs)\n",
    "    print(\"kmeans_preludd:\",kmeans_preludd)\n",
    "    kmeans_preludd.fit(Kmeans_EUR_Amount)\n",
    "    print(\"After Fit::\",kmeans_preludd)\n",
    "    sse.append(kmeans_preludd.inertia_)\n",
    "    print(\"sse::\",sse)\n",
    "    #silhouette_coefficients.append(silhouette_score(Kmeans_EUR_Amount, kmeans_preludd.labels_, metric = 'euclidean'))\n",
    "    #print(\"silhouette_coefficients\",silhouette_coefficients)\n",
    "    \n",
    "\n",
    "   "
   ]
  },
  {
   "cell_type": "code",
   "execution_count": 18,
   "metadata": {},
   "outputs": [
    {
     "data": {
      "image/png": "[encoded data removed]",
      "text/plain": [
       "<Figure size 432x288 with 1 Axes>"
      ]
     },
     "metadata": {},
     "output_type": "display_data"
    }
   ],
   "source": [
    "import matplotlib.pyplot as plt\n",
    "plt.style.use(\"fivethirtyeight\")\n",
    "plt.plot(range(2, 11), sse)\n",
    "plt.xticks(range(2, 11))\n",
    "plt.xlabel(\"Number of Clusters\")\n",
    "plt.ylabel(\"SSE\")\n",
    "plt.show()"
   ]
  },
  {
   "cell_type": "code",
   "execution_count": 79,
   "metadata": {},
   "outputs": [],
   "source": [
    "from kneed import KneeLocator\n",
    "kl = KneeLocator(\n",
    "        range(1, 11), sse, curve=\"convex\", direction=\"decreasing\"\n",
    "    )"
   ]
  },
  {
   "cell_type": "code",
   "execution_count": 80,
   "metadata": {},
   "outputs": [
    {
     "data": {
      "text/plain": [
       "4"
      ]
     },
     "execution_count": 80,
     "metadata": {},
     "output_type": "execute_result"
    }
   ],
   "source": [
    "kl.elbow"
   ]
  },
  {
   "cell_type": "code",
   "execution_count": 21,
   "metadata": {},
   "outputs": [
    {
     "data": {
      "text/plain": [
       "KMeans(init='random', n_clusters=6, random_state=42)"
      ]
     },
     "execution_count": 21,
     "metadata": {},
     "output_type": "execute_result"
    }
   ],
   "source": [
    "kmeans_preludd = KMeans(n_clusters=6, **kmeans_kwargs)\n",
    "kmeans_preludd.fit(Kmeans_EUR_Amount)\n"
   ]
  },
  {
   "cell_type": "code",
   "execution_count": 22,
   "metadata": {},
   "outputs": [],
   "source": [
    "prediction = kmeans_preludd.predict(Kmeans_EUR_Amount)"
   ]
  },
  {
   "cell_type": "code",
   "execution_count": 23,
   "metadata": {},
   "outputs": [
    {
     "name": "stderr",
     "output_type": "stream",
     "text": [
      "<ipython-input-23-20bd0d097152>:1: SettingWithCopyWarning: \n",
      "A value is trying to be set on a copy of a slice from a DataFrame.\n",
      "Try using .loc[row_indexer,col_indexer] = value instead\n",
      "\n",
      "See the caveats in the documentation: https://pandas.pydata.org/pandas-docs/stable/user_guide/indexing.html#returning-a-view-versus-a-copy\n",
      "  Kmeans_EUR_Amount[\"ClusterGroup\"] = prediction\n"
     ]
    }
   ],
   "source": [
    "Kmeans_EUR_Amount[\"ClusterGroup\"] = prediction"
   ]
  },
  {
   "cell_type": "code",
   "execution_count": 24,
   "metadata": {},
   "outputs": [
    {
     "data": {
      "text/plain": [
       "array([   1751,   18450,      11, 6370948,     207,  180665], dtype=int64)"
      ]
     },
     "execution_count": 24,
     "metadata": {},
     "output_type": "execute_result"
    }
   ],
   "source": [
    "np.bincount(prediction)"
   ]
  },
  {
   "cell_type": "code",
   "execution_count": 25,
   "metadata": {},
   "outputs": [
    {
     "data": {
      "text/html": [
       "<div>\n",
       "<style scoped>\n",
       "    .dataframe tbody tr th:only-of-type {\n",
       "        vertical-align: middle;\n",
       "    }\n",
       "\n",
       "    .dataframe tbody tr th {\n",
       "        vertical-align: top;\n",
       "    }\n",
       "\n",
       "    .dataframe thead th {\n",
       "        text-align: right;\n",
       "    }\n",
       "</style>\n",
       "<table border=\"1\" class=\"dataframe\">\n",
       "  <thead>\n",
       "    <tr style=\"text-align: right;\">\n",
       "      <th></th>\n",
       "      <th>AmountInEUR</th>\n",
       "      <th>ClusterGroup</th>\n",
       "    </tr>\n",
       "  </thead>\n",
       "  <tbody>\n",
       "    <tr>\n",
       "      <th>0</th>\n",
       "      <td>7.5</td>\n",
       "      <td>3</td>\n",
       "    </tr>\n",
       "    <tr>\n",
       "      <th>1</th>\n",
       "      <td>25.4</td>\n",
       "      <td>3</td>\n",
       "    </tr>\n",
       "    <tr>\n",
       "      <th>2</th>\n",
       "      <td>44.8</td>\n",
       "      <td>3</td>\n",
       "    </tr>\n",
       "    <tr>\n",
       "      <th>3</th>\n",
       "      <td>46.4</td>\n",
       "      <td>3</td>\n",
       "    </tr>\n",
       "    <tr>\n",
       "      <th>4</th>\n",
       "      <td>35.4</td>\n",
       "      <td>3</td>\n",
       "    </tr>\n",
       "    <tr>\n",
       "      <th>...</th>\n",
       "      <td>...</td>\n",
       "      <td>...</td>\n",
       "    </tr>\n",
       "    <tr>\n",
       "      <th>6853412</th>\n",
       "      <td>100.0</td>\n",
       "      <td>3</td>\n",
       "    </tr>\n",
       "    <tr>\n",
       "      <th>6853414</th>\n",
       "      <td>44.0</td>\n",
       "      <td>3</td>\n",
       "    </tr>\n",
       "    <tr>\n",
       "      <th>6853415</th>\n",
       "      <td>82.0</td>\n",
       "      <td>3</td>\n",
       "    </tr>\n",
       "    <tr>\n",
       "      <th>6853419</th>\n",
       "      <td>41.0</td>\n",
       "      <td>3</td>\n",
       "    </tr>\n",
       "    <tr>\n",
       "      <th>6853421</th>\n",
       "      <td>100.0</td>\n",
       "      <td>3</td>\n",
       "    </tr>\n",
       "  </tbody>\n",
       "</table>\n",
       "<p>6370948 rows × 2 columns</p>\n",
       "</div>"
      ],
      "text/plain": [
       "         AmountInEUR  ClusterGroup\n",
       "0                7.5             3\n",
       "1               25.4             3\n",
       "2               44.8             3\n",
       "3               46.4             3\n",
       "4               35.4             3\n",
       "...              ...           ...\n",
       "6853412        100.0             3\n",
       "6853414         44.0             3\n",
       "6853415         82.0             3\n",
       "6853419         41.0             3\n",
       "6853421        100.0             3\n",
       "\n",
       "[6370948 rows x 2 columns]"
      ]
     },
     "execution_count": 25,
     "metadata": {},
     "output_type": "execute_result"
    }
   ],
   "source": [
    "Kmeans_EUR_Amount[Kmeans_EUR_Amount[\"ClusterGroup\"]==3]"
   ]
  },
  {
   "cell_type": "code",
   "execution_count": 26,
   "metadata": {},
   "outputs": [],
   "source": [
    "Kmeans_EUR_Amount.to_csv(\"AmountCluster_Group6.csv\")"
   ]
  },
  {
   "cell_type": "code",
   "execution_count": 27,
   "metadata": {},
   "outputs": [],
   "source": [
    "Clean_SIREN_MCC_APPLICATION[\"AmountCluster\"] = prediction"
   ]
  },
  {
   "cell_type": "code",
   "execution_count": 29,
   "metadata": {},
   "outputs": [],
   "source": [
    "Clean_SIREN_MCC_APPLICATION[[\"AmountInEUR\",\"application\",\"mcc\",\"serial_number\",\"legal_infos_head_office_registration_number\",\"legal_name\",\"AmountCluster\"]].to_csv(\"AmountCluster_Group6.csv\")"
   ]
  },
  {
   "cell_type": "code",
   "execution_count": 8,
   "metadata": {},
   "outputs": [
    {
     "data": {
      "text/plain": [
       "5870475    TNA\n",
       "Name: type, dtype: object"
      ]
     },
     "execution_count": 8,
     "metadata": {},
     "output_type": "execute_result"
    }
   ],
   "source": [
    "Clean_SIREN_MCC_APPLICATION[Clean_SIREN_MCC_APPLICATION[\"amount\"] == 300000][\"type\"]"
   ]
  },
  {
   "cell_type": "code",
   "execution_count": 10,
   "metadata": {},
   "outputs": [
    {
     "data": {
      "text/plain": [
       "Series([], Name: type, dtype: object)"
      ]
     },
     "execution_count": 10,
     "metadata": {},
     "output_type": "execute_result"
    }
   ],
   "source": [
    "Clean_SIREN_MCC_APPLICATION[Clean_SIREN_MCC_APPLICATION[\"type\"] == \"Credit\"][\"type\"]"
   ]
  },
  {
   "cell_type": "code",
   "execution_count": 2,
   "metadata": {},
   "outputs": [],
   "source": [
    "### March 15\n",
    "import pandas as pd\n",
    "Grouped=pd.read_csv(\"AmountCluster_Group6.csv\")\n"
   ]
  },
  {
   "cell_type": "code",
   "execution_count": 3,
   "metadata": {},
   "outputs": [
    {
     "data": {
      "text/html": [
       "<div>\n",
       "<style scoped>\n",
       "    .dataframe tbody tr th:only-of-type {\n",
       "        vertical-align: middle;\n",
       "    }\n",
       "\n",
       "    .dataframe tbody tr th {\n",
       "        vertical-align: top;\n",
       "    }\n",
       "\n",
       "    .dataframe thead th {\n",
       "        text-align: right;\n",
       "    }\n",
       "</style>\n",
       "<table border=\"1\" class=\"dataframe\">\n",
       "  <thead>\n",
       "    <tr style=\"text-align: right;\">\n",
       "      <th></th>\n",
       "      <th>Unnamed: 0</th>\n",
       "      <th>AmountInEUR</th>\n",
       "      <th>application</th>\n",
       "      <th>mcc</th>\n",
       "      <th>serial_number</th>\n",
       "      <th>legal_infos_head_office_registration_number</th>\n",
       "      <th>legal_name</th>\n",
       "      <th>AmountCluster</th>\n",
       "    </tr>\n",
       "  </thead>\n",
       "  <tbody>\n",
       "    <tr>\n",
       "      <th>0</th>\n",
       "      <td>0</td>\n",
       "      <td>7.5</td>\n",
       "      <td>CBEMV</td>\n",
       "      <td>7991</td>\n",
       "      <td>401153046</td>\n",
       "      <td>840058762.0</td>\n",
       "      <td>BLOCK'OUT</td>\n",
       "      <td>3</td>\n",
       "    </tr>\n",
       "    <tr>\n",
       "      <th>1</th>\n",
       "      <td>1</td>\n",
       "      <td>25.4</td>\n",
       "      <td>CBEMV</td>\n",
       "      <td>7991</td>\n",
       "      <td>401153046</td>\n",
       "      <td>840058762.0</td>\n",
       "      <td>BLOCK'OUT</td>\n",
       "      <td>3</td>\n",
       "    </tr>\n",
       "    <tr>\n",
       "      <th>2</th>\n",
       "      <td>2</td>\n",
       "      <td>44.8</td>\n",
       "      <td>CBEMV</td>\n",
       "      <td>7991</td>\n",
       "      <td>401153046</td>\n",
       "      <td>840058762.0</td>\n",
       "      <td>BLOCK'OUT</td>\n",
       "      <td>3</td>\n",
       "    </tr>\n",
       "    <tr>\n",
       "      <th>3</th>\n",
       "      <td>3</td>\n",
       "      <td>46.4</td>\n",
       "      <td>CBEMV</td>\n",
       "      <td>7991</td>\n",
       "      <td>401153046</td>\n",
       "      <td>840058762.0</td>\n",
       "      <td>BLOCK'OUT</td>\n",
       "      <td>3</td>\n",
       "    </tr>\n",
       "    <tr>\n",
       "      <th>4</th>\n",
       "      <td>4</td>\n",
       "      <td>35.4</td>\n",
       "      <td>CBEMV</td>\n",
       "      <td>7991</td>\n",
       "      <td>401153046</td>\n",
       "      <td>840058762.0</td>\n",
       "      <td>BLOCK'OUT</td>\n",
       "      <td>3</td>\n",
       "    </tr>\n",
       "    <tr>\n",
       "      <th>...</th>\n",
       "      <td>...</td>\n",
       "      <td>...</td>\n",
       "      <td>...</td>\n",
       "      <td>...</td>\n",
       "      <td>...</td>\n",
       "      <td>...</td>\n",
       "      <td>...</td>\n",
       "      <td>...</td>\n",
       "    </tr>\n",
       "    <tr>\n",
       "      <th>6572027</th>\n",
       "      <td>6853418</td>\n",
       "      <td>523.0</td>\n",
       "      <td>CBEMV</td>\n",
       "      <td>7941</td>\n",
       "      <td>CT81206537</td>\n",
       "      <td>479782690.0</td>\n",
       "      <td>SAVA.SEM</td>\n",
       "      <td>5</td>\n",
       "    </tr>\n",
       "    <tr>\n",
       "      <th>6572028</th>\n",
       "      <td>6853419</td>\n",
       "      <td>41.0</td>\n",
       "      <td>CBEMV</td>\n",
       "      <td>7941</td>\n",
       "      <td>CT81206537</td>\n",
       "      <td>479782690.0</td>\n",
       "      <td>SAVA.SEM</td>\n",
       "      <td>3</td>\n",
       "    </tr>\n",
       "    <tr>\n",
       "      <th>6572029</th>\n",
       "      <td>6853420</td>\n",
       "      <td>224.0</td>\n",
       "      <td>CBEMV</td>\n",
       "      <td>7941</td>\n",
       "      <td>CT81206537</td>\n",
       "      <td>479782690.0</td>\n",
       "      <td>SAVA.SEM</td>\n",
       "      <td>5</td>\n",
       "    </tr>\n",
       "    <tr>\n",
       "      <th>6572030</th>\n",
       "      <td>6853421</td>\n",
       "      <td>100.0</td>\n",
       "      <td>CBEMV</td>\n",
       "      <td>7941</td>\n",
       "      <td>CT81206537</td>\n",
       "      <td>479782690.0</td>\n",
       "      <td>SAVA.SEM</td>\n",
       "      <td>3</td>\n",
       "    </tr>\n",
       "    <tr>\n",
       "      <th>6572031</th>\n",
       "      <td>6853422</td>\n",
       "      <td>598.0</td>\n",
       "      <td>CBEMV</td>\n",
       "      <td>7941</td>\n",
       "      <td>CT81206537</td>\n",
       "      <td>479782690.0</td>\n",
       "      <td>SAVA.SEM</td>\n",
       "      <td>5</td>\n",
       "    </tr>\n",
       "  </tbody>\n",
       "</table>\n",
       "<p>6572032 rows × 8 columns</p>\n",
       "</div>"
      ],
      "text/plain": [
       "         Unnamed: 0  AmountInEUR application   mcc serial_number  \\\n",
       "0                 0          7.5       CBEMV  7991     401153046   \n",
       "1                 1         25.4       CBEMV  7991     401153046   \n",
       "2                 2         44.8       CBEMV  7991     401153046   \n",
       "3                 3         46.4       CBEMV  7991     401153046   \n",
       "4                 4         35.4       CBEMV  7991     401153046   \n",
       "...             ...          ...         ...   ...           ...   \n",
       "6572027     6853418        523.0       CBEMV  7941    CT81206537   \n",
       "6572028     6853419         41.0       CBEMV  7941    CT81206537   \n",
       "6572029     6853420        224.0       CBEMV  7941    CT81206537   \n",
       "6572030     6853421        100.0       CBEMV  7941    CT81206537   \n",
       "6572031     6853422        598.0       CBEMV  7941    CT81206537   \n",
       "\n",
       "         legal_infos_head_office_registration_number legal_name  AmountCluster  \n",
       "0                                        840058762.0  BLOCK'OUT              3  \n",
       "1                                        840058762.0  BLOCK'OUT              3  \n",
       "2                                        840058762.0  BLOCK'OUT              3  \n",
       "3                                        840058762.0  BLOCK'OUT              3  \n",
       "4                                        840058762.0  BLOCK'OUT              3  \n",
       "...                                              ...        ...            ...  \n",
       "6572027                                  479782690.0   SAVA.SEM              5  \n",
       "6572028                                  479782690.0   SAVA.SEM              3  \n",
       "6572029                                  479782690.0   SAVA.SEM              5  \n",
       "6572030                                  479782690.0   SAVA.SEM              3  \n",
       "6572031                                  479782690.0   SAVA.SEM              5  \n",
       "\n",
       "[6572032 rows x 8 columns]"
      ]
     },
     "execution_count": 3,
     "metadata": {},
     "output_type": "execute_result"
    }
   ],
   "source": [
    "Grouped"
   ]
  },
  {
   "cell_type": "code",
   "execution_count": 6,
   "metadata": {},
   "outputs": [
    {
     "data": {
      "text/plain": [
       "Index(['Unnamed: 0', 'created_at', 'serial_number', 'manufacturer',\n",
       "       'contract_number', 'contract_rank', 'bank_code', 'registration_number',\n",
       "       'legal_name', 'application', 'currency_code', 'mcc', 'credits_number',\n",
       "       'debits_number', 'debits_reversal_number', 'non_completed_number',\n",
       "       'credits_amount', 'debits_amount', 'debits_reversal_amount',\n",
       "       'transaction_count', 'local_transaction_datetime.1', 'amount',\n",
       "       'authorization_number', 'type', 'legal_infos_registration_number',\n",
       "       'legal_infos_head_office_registration_number',\n",
       "       'legal_infos_normalized_address_l7', 'legal_infos_postal_code',\n",
       "       'legal_infos_city_name', 'legal_infos_company_long_name',\n",
       "       'legal_infos_acronym', 'edited_description', 'combined_description',\n",
       "       'usda_description', 'irs_description', 'irs_reportable'],\n",
       "      dtype='object')"
      ]
     },
     "execution_count": 6,
     "metadata": {},
     "output_type": "execute_result"
    }
   ],
   "source": [
    "Clean_SIREN_MCC_APPLICATION.columns"
   ]
  },
  {
   "cell_type": "code",
   "execution_count": 8,
   "metadata": {},
   "outputs": [],
   "source": [
    "Grouped['local_transaction_datetime']=Clean_SIREN_MCC_APPLICATION['local_transaction_datetime.1']"
   ]
  },
  {
   "cell_type": "code",
   "execution_count": 13,
   "metadata": {},
   "outputs": [],
   "source": [
    "Grouped['mcc_description']=Clean_SIREN_MCC_APPLICATION['combined_description']"
   ]
  },
  {
   "cell_type": "code",
   "execution_count": 16,
   "metadata": {},
   "outputs": [],
   "source": [
    "Grouped['legal_infos_city_name']=Clean_SIREN_MCC_APPLICATION['legal_infos_city_name']"
   ]
  },
  {
   "cell_type": "code",
   "execution_count": 14,
   "metadata": {},
   "outputs": [
    {
     "ename": "KeyError",
     "evalue": "\"['Unnamed: 0'] not found in axis\"",
     "output_type": "error",
     "traceback": [
      "\u001b[1;31m---------------------------------------------------------------------------\u001b[0m",
      "\u001b[1;31mKeyError\u001b[0m                                  Traceback (most recent call last)",
      "\u001b[1;32m<ipython-input-14-83b7d964ce7b>\u001b[0m in \u001b[0;36m<module>\u001b[1;34m\u001b[0m\n\u001b[1;32m----> 1\u001b[1;33m \u001b[0mGrouped\u001b[0m\u001b[1;33m=\u001b[0m\u001b[0mGrouped\u001b[0m\u001b[1;33m.\u001b[0m\u001b[0mdrop\u001b[0m\u001b[1;33m(\u001b[0m\u001b[1;33m[\u001b[0m\u001b[1;34m\"Unnamed: 0\"\u001b[0m\u001b[1;33m]\u001b[0m\u001b[1;33m,\u001b[0m\u001b[0maxis\u001b[0m\u001b[1;33m=\u001b[0m\u001b[1;36m1\u001b[0m\u001b[1;33m)\u001b[0m\u001b[1;33m\u001b[0m\u001b[1;33m\u001b[0m\u001b[0m\n\u001b[0m",
      "\u001b[1;32m~\\anaconda3\\lib\\site-packages\\pandas\\core\\frame.py\u001b[0m in \u001b[0;36mdrop\u001b[1;34m(self, labels, axis, index, columns, level, inplace, errors)\u001b[0m\n\u001b[0;32m   4161\u001b[0m                 \u001b[0mweight\u001b[0m  \u001b[1;36m1.0\u001b[0m     \u001b[1;36m0.8\u001b[0m\u001b[1;33m\u001b[0m\u001b[1;33m\u001b[0m\u001b[0m\n\u001b[0;32m   4162\u001b[0m         \"\"\"\n\u001b[1;32m-> 4163\u001b[1;33m         return super().drop(\n\u001b[0m\u001b[0;32m   4164\u001b[0m             \u001b[0mlabels\u001b[0m\u001b[1;33m=\u001b[0m\u001b[0mlabels\u001b[0m\u001b[1;33m,\u001b[0m\u001b[1;33m\u001b[0m\u001b[1;33m\u001b[0m\u001b[0m\n\u001b[0;32m   4165\u001b[0m             \u001b[0maxis\u001b[0m\u001b[1;33m=\u001b[0m\u001b[0maxis\u001b[0m\u001b[1;33m,\u001b[0m\u001b[1;33m\u001b[0m\u001b[1;33m\u001b[0m\u001b[0m\n",
      "\u001b[1;32m~\\anaconda3\\lib\\site-packages\\pandas\\core\\generic.py\u001b[0m in \u001b[0;36mdrop\u001b[1;34m(self, labels, axis, index, columns, level, inplace, errors)\u001b[0m\n\u001b[0;32m   3885\u001b[0m         \u001b[1;32mfor\u001b[0m \u001b[0maxis\u001b[0m\u001b[1;33m,\u001b[0m \u001b[0mlabels\u001b[0m \u001b[1;32min\u001b[0m \u001b[0maxes\u001b[0m\u001b[1;33m.\u001b[0m\u001b[0mitems\u001b[0m\u001b[1;33m(\u001b[0m\u001b[1;33m)\u001b[0m\u001b[1;33m:\u001b[0m\u001b[1;33m\u001b[0m\u001b[1;33m\u001b[0m\u001b[0m\n\u001b[0;32m   3886\u001b[0m             \u001b[1;32mif\u001b[0m \u001b[0mlabels\u001b[0m \u001b[1;32mis\u001b[0m \u001b[1;32mnot\u001b[0m \u001b[1;32mNone\u001b[0m\u001b[1;33m:\u001b[0m\u001b[1;33m\u001b[0m\u001b[1;33m\u001b[0m\u001b[0m\n\u001b[1;32m-> 3887\u001b[1;33m                 \u001b[0mobj\u001b[0m \u001b[1;33m=\u001b[0m \u001b[0mobj\u001b[0m\u001b[1;33m.\u001b[0m\u001b[0m_drop_axis\u001b[0m\u001b[1;33m(\u001b[0m\u001b[0mlabels\u001b[0m\u001b[1;33m,\u001b[0m \u001b[0maxis\u001b[0m\u001b[1;33m,\u001b[0m \u001b[0mlevel\u001b[0m\u001b[1;33m=\u001b[0m\u001b[0mlevel\u001b[0m\u001b[1;33m,\u001b[0m \u001b[0merrors\u001b[0m\u001b[1;33m=\u001b[0m\u001b[0merrors\u001b[0m\u001b[1;33m)\u001b[0m\u001b[1;33m\u001b[0m\u001b[1;33m\u001b[0m\u001b[0m\n\u001b[0m\u001b[0;32m   3888\u001b[0m \u001b[1;33m\u001b[0m\u001b[0m\n\u001b[0;32m   3889\u001b[0m         \u001b[1;32mif\u001b[0m \u001b[0minplace\u001b[0m\u001b[1;33m:\u001b[0m\u001b[1;33m\u001b[0m\u001b[1;33m\u001b[0m\u001b[0m\n",
      "\u001b[1;32m~\\anaconda3\\lib\\site-packages\\pandas\\core\\generic.py\u001b[0m in \u001b[0;36m_drop_axis\u001b[1;34m(self, labels, axis, level, errors)\u001b[0m\n\u001b[0;32m   3919\u001b[0m                 \u001b[0mnew_axis\u001b[0m \u001b[1;33m=\u001b[0m \u001b[0maxis\u001b[0m\u001b[1;33m.\u001b[0m\u001b[0mdrop\u001b[0m\u001b[1;33m(\u001b[0m\u001b[0mlabels\u001b[0m\u001b[1;33m,\u001b[0m \u001b[0mlevel\u001b[0m\u001b[1;33m=\u001b[0m\u001b[0mlevel\u001b[0m\u001b[1;33m,\u001b[0m \u001b[0merrors\u001b[0m\u001b[1;33m=\u001b[0m\u001b[0merrors\u001b[0m\u001b[1;33m)\u001b[0m\u001b[1;33m\u001b[0m\u001b[1;33m\u001b[0m\u001b[0m\n\u001b[0;32m   3920\u001b[0m             \u001b[1;32melse\u001b[0m\u001b[1;33m:\u001b[0m\u001b[1;33m\u001b[0m\u001b[1;33m\u001b[0m\u001b[0m\n\u001b[1;32m-> 3921\u001b[1;33m                 \u001b[0mnew_axis\u001b[0m \u001b[1;33m=\u001b[0m \u001b[0maxis\u001b[0m\u001b[1;33m.\u001b[0m\u001b[0mdrop\u001b[0m\u001b[1;33m(\u001b[0m\u001b[0mlabels\u001b[0m\u001b[1;33m,\u001b[0m \u001b[0merrors\u001b[0m\u001b[1;33m=\u001b[0m\u001b[0merrors\u001b[0m\u001b[1;33m)\u001b[0m\u001b[1;33m\u001b[0m\u001b[1;33m\u001b[0m\u001b[0m\n\u001b[0m\u001b[0;32m   3922\u001b[0m             \u001b[0mresult\u001b[0m \u001b[1;33m=\u001b[0m \u001b[0mself\u001b[0m\u001b[1;33m.\u001b[0m\u001b[0mreindex\u001b[0m\u001b[1;33m(\u001b[0m\u001b[1;33m**\u001b[0m\u001b[1;33m{\u001b[0m\u001b[0maxis_name\u001b[0m\u001b[1;33m:\u001b[0m \u001b[0mnew_axis\u001b[0m\u001b[1;33m}\u001b[0m\u001b[1;33m)\u001b[0m\u001b[1;33m\u001b[0m\u001b[1;33m\u001b[0m\u001b[0m\n\u001b[0;32m   3923\u001b[0m \u001b[1;33m\u001b[0m\u001b[0m\n",
      "\u001b[1;32m~\\anaconda3\\lib\\site-packages\\pandas\\core\\indexes\\base.py\u001b[0m in \u001b[0;36mdrop\u001b[1;34m(self, labels, errors)\u001b[0m\n\u001b[0;32m   5280\u001b[0m         \u001b[1;32mif\u001b[0m \u001b[0mmask\u001b[0m\u001b[1;33m.\u001b[0m\u001b[0many\u001b[0m\u001b[1;33m(\u001b[0m\u001b[1;33m)\u001b[0m\u001b[1;33m:\u001b[0m\u001b[1;33m\u001b[0m\u001b[1;33m\u001b[0m\u001b[0m\n\u001b[0;32m   5281\u001b[0m             \u001b[1;32mif\u001b[0m \u001b[0merrors\u001b[0m \u001b[1;33m!=\u001b[0m \u001b[1;34m\"ignore\"\u001b[0m\u001b[1;33m:\u001b[0m\u001b[1;33m\u001b[0m\u001b[1;33m\u001b[0m\u001b[0m\n\u001b[1;32m-> 5282\u001b[1;33m                 \u001b[1;32mraise\u001b[0m \u001b[0mKeyError\u001b[0m\u001b[1;33m(\u001b[0m\u001b[1;34mf\"{labels[mask]} not found in axis\"\u001b[0m\u001b[1;33m)\u001b[0m\u001b[1;33m\u001b[0m\u001b[1;33m\u001b[0m\u001b[0m\n\u001b[0m\u001b[0;32m   5283\u001b[0m             \u001b[0mindexer\u001b[0m \u001b[1;33m=\u001b[0m \u001b[0mindexer\u001b[0m\u001b[1;33m[\u001b[0m\u001b[1;33m~\u001b[0m\u001b[0mmask\u001b[0m\u001b[1;33m]\u001b[0m\u001b[1;33m\u001b[0m\u001b[1;33m\u001b[0m\u001b[0m\n\u001b[0;32m   5284\u001b[0m         \u001b[1;32mreturn\u001b[0m \u001b[0mself\u001b[0m\u001b[1;33m.\u001b[0m\u001b[0mdelete\u001b[0m\u001b[1;33m(\u001b[0m\u001b[0mindexer\u001b[0m\u001b[1;33m)\u001b[0m\u001b[1;33m\u001b[0m\u001b[1;33m\u001b[0m\u001b[0m\n",
      "\u001b[1;31mKeyError\u001b[0m: \"['Unnamed: 0'] not found in axis\""
     ]
    }
   ],
   "source": [
    "Grouped=Grouped.drop([\"Unnamed: 0\"],axis=1)"
   ]
  },
  {
   "cell_type": "code",
   "execution_count": 17,
   "metadata": {},
   "outputs": [],
   "source": [
    "Grouped.to_csv(\"AmountCluster_Group6_Date.csv\")"
   ]
  },
  {
   "cell_type": "code",
   "execution_count": 4,
   "metadata": {},
   "outputs": [
    {
     "data": {
      "text/plain": [
       "11769"
      ]
     },
     "execution_count": 4,
     "metadata": {},
     "output_type": "execute_result"
    }
   ],
   "source": [
    "Grouped.legal_infos_head_office_registration_number.nunique()"
   ]
  },
  {
   "cell_type": "code",
   "execution_count": 5,
   "metadata": {},
   "outputs": [
    {
     "data": {
      "text/plain": [
       "15"
      ]
     },
     "execution_count": 5,
     "metadata": {},
     "output_type": "execute_result"
    }
   ],
   "source": [
    "Grouped.application.nunique()"
   ]
  },
  {
   "cell_type": "code",
   "execution_count": 6,
   "metadata": {},
   "outputs": [
    {
     "data": {
      "text/plain": [
       "186"
      ]
     },
     "execution_count": 6,
     "metadata": {},
     "output_type": "execute_result"
    }
   ],
   "source": [
    "Grouped.mcc.nunique()"
   ]
  },
  {
   "cell_type": "code",
   "execution_count": 7,
   "metadata": {},
   "outputs": [
    {
     "data": {
      "text/plain": [
       "16449"
      ]
     },
     "execution_count": 7,
     "metadata": {},
     "output_type": "execute_result"
    }
   ],
   "source": [
    "Grouped.serial_number.nunique()"
   ]
  },
  {
   "cell_type": "code",
   "execution_count": null,
   "metadata": {},
   "outputs": [],
   "source": []
  }
 ],
 "metadata": {
  "kernelspec": {
   "display_name": "Python 3",
   "language": "python",
   "name": "python3"
  },
  "language_info": {
   "codemirror_mode": {
    "name": "ipython",
    "version": 3
   },
   "file_extension": ".py",
   "mimetype": "text/x-python",
   "name": "python",
   "nbconvert_exporter": "python",
   "pygments_lexer": "ipython3",
   "version": "3.8.5"
  }
 },
 "nbformat": 4,
 "nbformat_minor": 4
}
